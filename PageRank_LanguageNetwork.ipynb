{
  "nbformat": 4,
  "nbformat_minor": 0,
  "metadata": {
    "colab": {
      "provenance": []
    },
    "kernelspec": {
      "name": "python3",
      "display_name": "Python 3"
    },
    "language_info": {
      "name": "python"
    }
  },
  "cells": [
    {
      "cell_type": "markdown",
      "source": [
        "**Mount Google Drive**"
      ],
      "metadata": {
        "id": "XmcaQJUOSDr1"
      }
    },
    {
      "cell_type": "code",
      "execution_count": 1,
      "metadata": {
        "colab": {
          "base_uri": "https://localhost:8080/"
        },
        "id": "ZFK8TmGqrw-g",
        "outputId": "62dc3296-55ca-4fcb-8551-87287d75dc4c"
      },
      "outputs": [
        {
          "output_type": "stream",
          "name": "stdout",
          "text": [
            "Drive already mounted at /content/drive; to attempt to forcibly remount, call drive.mount(\"/content/drive\", force_remount=True).\n"
          ]
        }
      ],
      "source": [
        "from google.colab import drive\n",
        "\n",
        "drive.mount('/content/drive')"
      ]
    },
    {
      "cell_type": "markdown",
      "source": [
        "**Setup**"
      ],
      "metadata": {
        "id": "Q_BHkJ8BSGxA"
      }
    },
    {
      "cell_type": "code",
      "source": [
        "!apt-get update -qq > /dev/null\n",
        "!apt-get install openjdk-8-jdk-headless -qq > /dev/null\n",
        "!wget -q https://dlcdn.apache.org/spark/spark-3.4.2/spark-3.4.2-bin-hadoop3.tgz\n",
        "!tar xf spark-3.4.2-bin-hadoop3.tgz\n",
        "!pip install -q findspark"
      ],
      "metadata": {
        "id": "tvFED4yVgjg0"
      },
      "execution_count": 2,
      "outputs": []
    },
    {
      "cell_type": "code",
      "source": [
        "import os\n",
        "import pandas as pd\n",
        "\n",
        "os.environ[\"JAVA_HOME\"] = \"/usr/lib/jvm/java-8-openjdk-amd64\"\n",
        "os.environ[\"SPARK_HOME\"] = \"/content/spark-3.4.2-bin-hadoop3\"\n",
        "\n",
        "import findspark\n",
        "\n",
        "findspark.init()\n",
        "\n",
        "from pyspark.sql import SparkSession\n",
        "import random\n",
        "\n",
        "spark = SparkSession.builder.appName(\"YourTest\") \\\n",
        "    .master(\"local[2]\") \\\n",
        "    .config('spark.ui.port', random.randrange(4000, 5000)) \\\n",
        "    .config(\"spark.jars.packages\", \"graphframes:graphframes:0.8.3-spark3.4-s_2.12\") \\\n",
        "    .getOrCreate()\n",
        "\n",
        "from graphframes import GraphFrame\n",
        "from graphframes.lib import Pregel\n",
        "import pyspark.sql.functions as f\n",
        "\n",
        "spark.sparkContext.setCheckpointDir(\"./checkpoint/\")"
      ],
      "metadata": {
        "id": "mCC6uOoEgoNz"
      },
      "execution_count": 3,
      "outputs": []
    },
    {
      "cell_type": "code",
      "source": [
        "from pyspark.sql import SparkSession\n",
        "from pyspark.sql.functions import col\n",
        "\n",
        "# Create a SparkSession\n",
        "spark = SparkSession.builder.getOrCreate()\n",
        "\n",
        "# Load the data\n",
        "df = spark.read.csv(\"/content/drive/MyDrive/twitch_gamers/large_twitch_edges.csv\", header=True)\n",
        "\n",
        "# Get all vertices\n",
        "all_vertices = df.select(\"numeric_id_1\").union(df.select(\"numeric_id_2\")).distinct()\n",
        "\n",
        "# Get dead ends\n",
        "missing_vertices = all_vertices.subtract(df.select(\"numeric_id_1\").distinct())\n",
        "\n",
        "# Add loop\n",
        "missing_edges_df = missing_vertices.withColumnRenamed(\"numeric_id_1\", \"src\").withColumn(\"dst\", col(\"src\"))\n",
        "\n",
        "# Concatenate the dataframes\n",
        "df = df.union(missing_edges_df)\n",
        "\n",
        "df.write.option(\"header\", \"true\").mode('overwrite').csv('/content/drive/MyDrive/twitch_gamers/loop.csv')\n"
      ],
      "metadata": {
        "id": "26McF-LApnQY"
      },
      "execution_count": 18,
      "outputs": []
    },
    {
      "cell_type": "code",
      "source": [
        "from pyspark.sql import functions as f\n",
        "from pyspark.sql.functions import collect_set, size\n",
        "from graphframes import *\n",
        "from pyspark.sql.functions import sum as _sum\n",
        "\n",
        "# Load the features DataFrame\n",
        "features = spark.read.format(\"csv\").option(\"header\", \"true\").load(\"/content/drive/MyDrive/twitch_gamers/large_twitch_features.csv\")\n",
        "\n",
        "# Load the edges DataFrame\n",
        "twitch_gamers = spark.read.format(\"csv\").option(\"header\", \"true\").load(\n",
        "    \"/content/drive/MyDrive/twitch_gamers/large_twitch_edges.csv\").withColumnRenamed(\"numeric_id_1\",\n",
        "                                                      \"src\").withColumnRenamed(\"numeric_id_2\", \"dst\")\n",
        "\n",
        "vertices = twitch_gamers.select(\"src\").union(twitch_gamers.select(\"dst\")).distinct().withColumnRenamed(\"src\", \"id\")\n",
        "\n",
        "# Join the features DataFrame with the vertices DataFrame to add the language attribute\n",
        "vertices = vertices.join(features.select(\"numeric_id\", \"language\"), vertices.id == features.numeric_id, \"left_outer\")\n",
        "\n",
        "# Create a new edges DataFrame where each edge represents a connection between users who speak the same language\n",
        "edges = twitch_gamers.alias(\"e\").join(vertices.alias(\"v1\"), f.col(\"e.src\") == f.col(\"v1.id\")).join(vertices.alias(\"v2\"),\n",
        "          f.col(\"e.dst\") == f.col(\"v2.id\")).filter(f.col(\"v1.language\") == f.col(\"v2.language\")).select(f.col(\"e.src\").alias(\"src\"),\n",
        "                                                                                                      f.col(\"e.dst\").alias(\"dst\"))\n",
        "\n",
        "# Create the new graph\n",
        "graph_language = GraphFrame(vertices, edges)\n",
        "\n",
        "# Find connected components\n",
        "connected_components = graph_language.connectedComponents()\n",
        "\n",
        "# Group by language and component\n",
        "communities_by_language = connected_components.groupBy(\"language\", \"component\")\n",
        "\n",
        "# Count the number of users in each community\n",
        "communities_by_language = communities_by_language.agg(f.count(\"id\").alias(\"num_users\"))\n",
        "\n",
        "# Calculate the total number of communities and users for each language\n",
        "communities_by_language = communities_by_language.groupBy(\"language\").agg(f.count(\"component\").alias(\"num_communities\"), _sum(\"num_users\").alias(\"total_users\"))\n",
        "\n",
        "# Show the communities grouped by language\n",
        "communities_by_language.show()"
      ],
      "metadata": {
        "colab": {
          "base_uri": "https://localhost:8080/"
        },
        "id": "xo8RF4LZtcgZ",
        "outputId": "a4f63dc9-2633-46f6-a85d-fc1ce69f08cd"
      },
      "execution_count": 10,
      "outputs": [
        {
          "output_type": "stream",
          "name": "stdout",
          "text": [
            "+--------+---------------+-----------+\n",
            "|language|num_communities|total_users|\n",
            "+--------+---------------+-----------+\n",
            "|      FI|             44|        652|\n",
            "|      NL|             82|        701|\n",
            "|      PL|             50|        944|\n",
            "|      RU|            146|       4821|\n",
            "|      SV|            110|        854|\n",
            "|      PT|             93|       2536|\n",
            "|      EN|            266|     124411|\n",
            "|      DE|            187|       9428|\n",
            "|      ES|            169|       5699|\n",
            "|      TR|             16|        772|\n",
            "|      ZH|             38|       2828|\n",
            "|      FR|             78|       6799|\n",
            "|      DA|             50|        503|\n",
            "|      IT|             28|       1230|\n",
            "|      TH|              5|        632|\n",
            "|   OTHER|           1296|       1429|\n",
            "|      CS|              9|        576|\n",
            "|      HU|             18|        427|\n",
            "|      NO|             70|        330|\n",
            "|      KO|             35|       1215|\n",
            "+--------+---------------+-----------+\n",
            "only showing top 20 rows\n",
            "\n"
          ]
        }
      ]
    },
    {
      "cell_type": "code",
      "source": [
        "# Show the communities grouped by language, sorted by total_users in descending order\n",
        "#communities_by_language.orderBy(f.desc(\"total_users\")).show()\n",
        "import matplotlib.pyplot as plt\n",
        "\n",
        "# Convert the DataFrame to Pandas\n",
        "communities_by_language_pd = communities_by_language.toPandas()\n",
        "\n",
        "# Calculate the percentage of total users for each language\n",
        "communities_by_language_pd['percentage'] = (communities_by_language_pd['total_users'] / communities_by_language_pd['total_users'].sum()) * 100\n",
        "\n",
        "# Sort the data by percentage in descending order\n",
        "communities_by_language_pd = communities_by_language_pd.sort_values('percentage', ascending=False)\n",
        "\n",
        "# Plot the data\n",
        "plt.figure(figsize=(10, 6))\n",
        "plt.barh(communities_by_language_pd['language'], communities_by_language_pd['percentage'], color='skyblue')\n",
        "plt.xlabel('Percentage of Total Users')\n",
        "plt.ylabel('Language')\n",
        "plt.title('Communities Grouped by Language')\n",
        "plt.gca().invert_yaxis()  # invert the y-axis to show the language with the highest percentage at the top\n",
        "plt.show()\n",
        "\n"
      ],
      "metadata": {
        "colab": {
          "base_uri": "https://localhost:8080/",
          "height": 564
        },
        "id": "FZXNArmfvaCP",
        "outputId": "65cbd8e3-f595-4163-f9f3-c228296c5134"
      },
      "execution_count": 13,
      "outputs": [
        {
          "output_type": "display_data",
          "data": {
            "text/plain": [
              "<Figure size 1000x600 with 1 Axes>"
            ],
            "image/png": "[encoded data removed]"
          },
          "metadata": {}
        }
      ]
    },
    {
      "cell_type": "code",
      "source": [
        "# Read the excel file / rename columns\n",
        "twitch_gamers = spark.read.format(\"csv\").option(\"header\", \"false\").load(\n",
        "    \"loop.csv\").withColumnRenamed(\"_c0\",\n",
        "                                  \"src\").withColumnRenamed(\n",
        "    \"_c1\", \"dst\")\n",
        "\n",
        "\n",
        "vertices = twitch_gamers.select(\"src\").union(twitch_gamers.select(\"dst\")).distinct().withColumnRenamed(\"src\", \"id\")\n",
        "\n",
        "edges = twitch_gamers.select(\"src\", \"dst\")\n",
        "graph = GraphFrame(vertices, edges)\n",
        "\n",
        "# Show graph\n",
        "graph.vertices.show()\n",
        "graph.edges.show()\n"
      ],
      "metadata": {
        "id": "hCHssjPUsTwt",
        "outputId": "f68ab986-8df4-4f0e-fbb5-1ba4368bfe07",
        "colab": {
          "base_uri": "https://localhost:8080/"
        }
      },
      "execution_count": 4,
      "outputs": [
        {
          "output_type": "stream",
          "name": "stdout",
          "text": [
            "+------+\n",
            "|    id|\n",
            "+------+\n",
            "|113417|\n",
            "|128181|\n",
            "| 13772|\n",
            "| 42688|\n",
            "|106585|\n",
            "|140876|\n",
            "| 46683|\n",
            "| 17427|\n",
            "|102521|\n",
            "|  2162|\n",
            "| 29454|\n",
            "| 82197|\n",
            "|131033|\n",
            "|154118|\n",
            "|147244|\n",
            "| 90391|\n",
            "|149687|\n",
            "| 76686|\n",
            "| 57569|\n",
            "| 80258|\n",
            "+------+\n",
            "only showing top 20 rows\n",
            "\n",
            "+-----+------+\n",
            "|  src|   dst|\n",
            "+-----+------+\n",
            "|98343|141493|\n",
            "|98343| 58736|\n",
            "|98343|140703|\n",
            "|98343|151401|\n",
            "|98343|157118|\n",
            "|98343|125430|\n",
            "|98343|  3635|\n",
            "|98343|   495|\n",
            "|98343|116648|\n",
            "|98343|  1679|\n",
            "|98343|123861|\n",
            "|98343| 89631|\n",
            "|98343|113417|\n",
            "|98343|145281|\n",
            "|98343| 10408|\n",
            "|98343|  3181|\n",
            "|98343| 40675|\n",
            "|98343| 95914|\n",
            "|98343|155127|\n",
            "|98343|124827|\n",
            "+-----+------+\n",
            "only showing top 20 rows\n",
            "\n"
          ]
        }
      ]
    },
    {
      "cell_type": "markdown",
      "source": [
        "**In degree function**"
      ],
      "metadata": {
        "id": "FhuklZVpSQ2r"
      }
    },
    {
      "cell_type": "code",
      "source": [
        "# Implement in_degree function\n",
        "def in_Degrees(graph):\n",
        "    in_degrees = graph.edges.groupBy(\"dst\").count().select(f.col(\"dst\").alias(\"id\"),\n",
        "                                                            f.col(\"count\").alias(\"in_degree\"))\n",
        "\n",
        "    # for 0 outdegree\n",
        "    return graph.vertices.join(in_degrees, \"id\", \"left_outer\").select(\"id\", \"in_degree\").na.fill(0)\n",
        "\n",
        "# Implement out_degree function\n",
        "def out_Degrees(graph):\n",
        "    out_degrees = graph.edges.groupBy(\"src\").count().select(f.col(\"src\").alias(\"id\"),\n",
        "                                                            f.col(\"count\").alias(\"out_degree\"))\n",
        "\n",
        "    # for 0 outdegree\n",
        "    return graph.vertices.join(out_degrees, \"id\", \"left_outer\").select(\"id\", \"out_degree\").na.fill(0)\n",
        "\n",
        " # find the most connected user\n",
        "def most_connected_user(graph):\n",
        "\n",
        "    out_degrees = out_Degrees(graph)\n",
        "    most_connected = out_degrees.orderBy(f.col(\"out_degree\").desc()).first()\n",
        "    return most_connected"
      ],
      "metadata": {
        "id": "b2D1KSI2WNNq"
      },
      "execution_count": 5,
      "outputs": []
    },
    {
      "cell_type": "markdown",
      "source": [
        "**PageRank**"
      ],
      "metadata": {
        "id": "_yTJ3cQfvwLG"
      }
    },
    {
      "cell_type": "code",
      "source": [
        "# Implement Page Rank\n",
        "\n",
        "def page_rank(graph, resetProbability=0.15, sourceId=None, maxIter=None, tol=None):\n",
        "    \"\"\"\n",
        "    Runs the PageRank algorithm on the graph.\n",
        "    Note: Exactly one of fixed_num_iter or tolerance must be set.\n",
        "\n",
        "    See Scala documentation for more details.\n",
        "\n",
        "    :param resetProbability: Probability of resetting to a random vertex.\n",
        "    :param sourceId: (optional) the source vertex for a personalized PageRank.\n",
        "    :param maxIter: If set, the algorithm is run for a fixed number\n",
        "            of iterations. This may not be set if the `tol` parameter is set.\n",
        "    :param tol: If set, the algorithm is run until the given tolerance.\n",
        "            This may not be set if the `numIter` parameter is set.\n",
        "    :return:  GraphFrame with new vertices column \"pagerank\" and new edges column \"weight\"\n",
        "    \"\"\"\n",
        "\n",
        "    num_vertex = graph.vertices.count()\n",
        "\n",
        "    # Calculate out-degree\n",
        "    out_degrees = out_Degrees(graph)\n",
        "    out_degrees = out_degrees.withColumnRenamed(\"id\", \"out_degree_id\")\n",
        "    # Join the DataFrames and add the in_degree column\n",
        "    vertices = graph.vertices.join(out_degrees, graph.vertices[\"id\"] == out_degrees[\"out_degree_id\"], \"left\").drop(\n",
        "        \"out_degree_id\")\n",
        "    # Update the graph with in_degree\n",
        "    graph = GraphFrame(vertices, edges)\n",
        "\n",
        "    # Iteration version\n",
        "    if sourceId is not None:\n",
        "        if maxIter is not None:\n",
        "            ranks = graph.pregel \\\n",
        "                .setMaxIter(maxIter) \\\n",
        "                .withVertexColumn(\"pagerank\", f.when(graph.vertices.id == sourceId, f.lit(1.0)) \\\n",
        "                                  .otherwise(f.lit(0.0)), \\\n",
        "                                  f.coalesce(Pregel.msg(), f.lit(0.0)) * f.lit(1.0 - resetProbability) + f.when(\n",
        "                                      graph.vertices.id == sourceId, f.lit(resetProbability)).otherwise(f.lit(0.0))) \\\n",
        "                .sendMsgToDst(Pregel.src(\"pagerank\") / Pregel.src(\"out_degree\")) \\\n",
        "                .aggMsgs(f.sum(Pregel.msg())) \\\n",
        "                .run()\n",
        "            return GraphFrame(ranks, graph.edges)\n",
        "    elif maxIter is not None:\n",
        "        ranks = graph.pregel \\\n",
        "            .setMaxIter(maxIter) \\\n",
        "            .withVertexColumn(\"pagerank\", f.lit(1.0 / num_vertex), \\\n",
        "                              f.coalesce(Pregel.msg(), f.lit(0.0)) * f.lit(1.0 - resetProbability) + f.lit(\n",
        "                                  resetProbability / num_vertex)) \\\n",
        "            .sendMsgToDst(Pregel.src(\"pagerank\") / Pregel.src(\"out_degree\")) \\\n",
        "            .aggMsgs(f.sum(Pregel.msg())) \\\n",
        "            .run()\n",
        "        return GraphFrame(ranks, graph.edges)\n",
        "\n",
        "    # init rank\n",
        "    # running first iteration for the convergence version\n",
        "    if sourceId is not None:\n",
        "        ranks = graph.pregel \\\n",
        "            .setMaxIter(1) \\\n",
        "            .withVertexColumn(\"pagerank\", f.when(graph.vertices.id == sourceId, f.lit(1.0)) \\\n",
        "                              .otherwise(f.lit(0.0)), \\\n",
        "                              f.coalesce(Pregel.msg(), f.lit(0.0)) * f.lit(1.0 - resetProbability) + f.when(\n",
        "                                  graph.vertices.id == sourceId, f.lit(resetProbability)).otherwise(f.lit(0.0))) \\\n",
        "            .sendMsgToDst(Pregel.src(\"pagerank\") / Pregel.src(\"out_degree\")) \\\n",
        "            .aggMsgs(f.sum(Pregel.msg())) \\\n",
        "            .run()\n",
        "    else:\n",
        "        ranks = graph.pregel \\\n",
        "            .setMaxIter(1) \\\n",
        "            .withVertexColumn(\"pagerank\", f.lit(1.0 / num_vertex), \\\n",
        "                              f.coalesce(Pregel.msg(), f.lit(0.0)) * f.lit(1.0 - resetProbability) + f.lit(\n",
        "                                  resetProbability / num_vertex)) \\\n",
        "            .sendMsgToDst(Pregel.src(\"pagerank\") / Pregel.src(\"out_degree\")) \\\n",
        "            .aggMsgs(f.sum(Pregel.msg())) \\\n",
        "            .run()\n",
        "    # goes into convergence  check\n",
        "    ranks = ranks.withColumnRenamed(\"pagerank\", \"previous_pagerank\")\n",
        "    graph = GraphFrame(ranks, graph.edges)\n",
        "    iterationNum = 0\n",
        "    # tol\n",
        "    while 1:\n",
        "        # new pagerank\n",
        "        iterationNum += 1\n",
        "        if sourceId is not None:\n",
        "            new = graph.pregel \\\n",
        "                .setMaxIter(1) \\\n",
        "                .withVertexColumn(\"pagerank\", graph.vertices[\"previous_pagerank\"], \\\n",
        "                                  f.coalesce(Pregel.msg(), f.lit(0.0)) * f.lit(1.0 - resetProbability) + f.when(\n",
        "                                      graph.vertices.id == sourceId, f.lit(resetProbability)).otherwise(f.lit(0.0))) \\\n",
        "                .sendMsgToDst(Pregel.src(\"pagerank\") / Pregel.src(\"out_degree\")) \\\n",
        "                .aggMsgs(f.sum(Pregel.msg())) \\\n",
        "                .run()\n",
        "            new = new.drop(\"previous_pagerank\")\n",
        "        else:\n",
        "            new = graph.pregel \\\n",
        "                .setMaxIter(1) \\\n",
        "                .withVertexColumn(\"pagerank\", graph.vertices[\"previous_pagerank\"], \\\n",
        "                                  f.coalesce(Pregel.msg(), f.lit(0.0)) * f.lit(1.0 - resetProbability) + f.lit(\n",
        "                                      resetProbability / num_vertex)) \\\n",
        "                .sendMsgToDst(Pregel.src(\"pagerank\") / Pregel.src(\"out_degree\")) \\\n",
        "                .aggMsgs(f.sum(Pregel.msg())) \\\n",
        "                .run()\n",
        "            new = new.drop(\"previous_pagerank\")\n",
        "        # difference is smaller than tol\n",
        "        diff = new.join(graph.vertices, \"id\")\n",
        "        diff = diff.withColumn('difference', f.abs(diff['previous_pagerank'] - diff['pagerank']))\n",
        "        # diff.show()\n",
        "\n",
        "        smallest_difference = diff.orderBy(diff['difference'].desc()).select(\"difference\").limit(1).first()[0]\n",
        "        if smallest_difference < tol:\n",
        "            print(f\"Iteration numbers = {iterationNum}\")\n",
        "            return GraphFrame(new, graph.edges)\n",
        "        new = new.withColumnRenamed(\"pagerank\", \"previous_pagerank\")\n",
        "        graph = GraphFrame(new, graph.edges)"
      ],
      "metadata": {
        "id": "N00HJajGr7u5"
      },
      "execution_count": 18,
      "outputs": []
    },
    {
      "cell_type": "code",
      "source": [
        "\n",
        "result1 = page_rank(graph, maxIter=5)"
      ],
      "metadata": {
        "id": "1cWjBvlqo9i_"
      },
      "execution_count": 10,
      "outputs": []
    },
    {
      "cell_type": "code",
      "source": [
        "import matplotlib.pyplot as plt\n",
        "import numpy as np\n",
        "\n",
        "# Collect the PageRank values and rescale them\n",
        "pagerank_values = [value * 10**5 for value in result1.vertices.select('pagerank').rdd.flatMap(lambda x: x).collect()]\n",
        "\n",
        "# Calculate the weights for each bin to normalize the histogram\n",
        "weights = np.ones_like(pagerank_values) / len(pagerank_values)\n",
        "\n",
        "# Plot a histogram with y-axis as percentage\n",
        "plt.hist(pagerank_values, bins=50, weights=weights*100)\n",
        "\n",
        "plt.xlabel('PageRank Value (x $10^{-5}$)')\n",
        "plt.ylabel('Percentage of Users (%)')\n",
        "plt.title('Distribution of PageRank Values')\n",
        "plt.show()\n"
      ],
      "metadata": {
        "colab": {
          "base_uri": "https://localhost:8080/",
          "height": 479
        },
        "id": "chdNapE4EqGx",
        "outputId": "60a90bec-2e26-4f84-f23f-e0d922c73144"
      },
      "execution_count": 15,
      "outputs": [
        {
          "output_type": "display_data",
          "data": {
            "text/plain": [
              "<Figure size 640x480 with 1 Axes>"
            ],
            "image/png": "[encoded data removed]"
          },
          "metadata": {}
        }
      ]
    },
    {
      "cell_type": "code",
      "source": [
        "page_rank(graph, sourceId=\"1\", maxIter=1).vertices.show()"
      ],
      "metadata": {
        "colab": {
          "base_uri": "https://localhost:8080/"
        },
        "id": "NuQVBCI-nnKB",
        "outputId": "a36a94e2-9860-496a-9102-6bb9e82595f6"
      },
      "execution_count": null,
      "outputs": [
        {
          "output_type": "stream",
          "name": "stdout",
          "text": [
            "+---+----------+--------+\n",
            "| id|out_degree|pagerank|\n",
            "+---+----------+--------+\n",
            "|  1|         2|    0.15|\n",
            "|  2|         1|   0.425|\n",
            "|  3|         1|   0.425|\n",
            "+---+----------+--------+\n"
          ]
        }
      ]
    },
    {
      "cell_type": "code",
      "source": [
        "result2 = page_rank(graph, tol=0.3)"
      ],
      "metadata": {
        "id": "gbj2jubtnfAN"
      },
      "execution_count": null,
      "outputs": []
    },
    {
      "cell_type": "code",
      "source": [
        "import matplotlib.pyplot as plt\n",
        "import numpy as np\n",
        "\n",
        "# Collect the PageRank values and rescale them\n",
        "pagerank_values = [value * 10**5 for value in result2.vertices.select('pagerank').rdd.flatMap(lambda x: x).collect()]\n",
        "\n",
        "# Calculate the weights for each bin to normalize the histogram\n",
        "weights = np.ones_like(pagerank_values) / len(pagerank_values)\n",
        "\n",
        "# Plot a histogram with y-axis as percentage\n",
        "plt.hist(pagerank_values, bins=50, weights=weights*100)\n",
        "\n",
        "plt.xlabel('PageRank Value (x $10^{-5}$)')\n",
        "plt.ylabel('Percentage of Users (%)')\n",
        "plt.title('Distribution of PageRank Values')\n",
        "plt.show()"
      ],
      "metadata": {
        "colab": {
          "base_uri": "https://localhost:8080/",
          "height": 479
        },
        "id": "OauvfFJlKB2z",
        "outputId": "9d88ff44-080a-46b3-e78c-a337d65ece95"
      },
      "execution_count": 17,
      "outputs": [
        {
          "output_type": "display_data",
          "data": {
            "text/plain": [
              "<Figure size 640x480 with 1 Axes>"
            ],
            "image/png": "[encoded data removed]"
          },
          "metadata": {}
        }
      ]
    }
  ]
}