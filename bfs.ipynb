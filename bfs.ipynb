{
  "nbformat": 4,
  "nbformat_minor": 0,
  "metadata": {
    "colab": {
      "provenance": [],
      "authorship_tag": "ABX9TyNA6JQ6QmrqiXXZbVf7c5XG"
    },
    "kernelspec": {
      "name": "python3",
      "display_name": "Python 3"
    },
    "language_info": {
      "name": "python"
    }
  },
  "cells": [
    {
      "cell_type": "markdown",
      "source": [
        "## Mount Google Drive"
      ],
      "metadata": {
        "id": "UDrt8Vem8TNV"
      }
    },
    {
      "cell_type": "code",
      "source": [
        "from google.colab import drive\n",
        "\n",
        "drive.mount('/content/drive')"
      ],
      "metadata": {
        "colab": {
          "base_uri": "https://localhost:8080/"
        },
        "id": "gP0HSmRm4vcD",
        "outputId": "8a62522c-fed4-4380-fc44-ee321056d59c"
      },
      "execution_count": 2,
      "outputs": [
        {
          "output_type": "stream",
          "name": "stdout",
          "text": [
            "Mounted at /content/drive\n"
          ]
        }
      ]
    },
    {
      "cell_type": "markdown",
      "source": [
        "## Setup"
      ],
      "metadata": {
        "id": "UPYkzpiv8VZg"
      }
    },
    {
      "cell_type": "code",
      "execution_count": 3,
      "metadata": {
        "id": "2L6noIt6vsGX"
      },
      "outputs": [],
      "source": [
        "!apt-get update -qq > /dev/null\n",
        "!apt-get install openjdk-8-jdk-headless -qq > /dev/null\n",
        "!wget -q https://dlcdn.apache.org/spark/spark-3.4.2/spark-3.4.2-bin-hadoop3.tgz\n",
        "!tar xf spark-3.4.2-bin-hadoop3.tgz\n",
        "!pip install -q findspark"
      ]
    },
    {
      "cell_type": "code",
      "source": [
        "import os\n",
        "os.environ[\"JAVA_HOME\"] = \"/usr/lib/jvm/java-8-openjdk-amd64\"\n",
        "os.environ[\"SPARK_HOME\"] = \"/content/spark-3.4.2-bin-hadoop3\"\n",
        "\n",
        "import findspark\n",
        "findspark.init()\n",
        "\n",
        "\n",
        "from pyspark.sql import SparkSession\n",
        "import random\n",
        "spark = SparkSession.builder.appName(\"YourTest\")\\\n",
        ".master(\"local[2]\")\\\n",
        ".config('spark.ui.port', random.randrange(4000,5000))\\\n",
        ".config(\"spark.jars.packages\",\"graphframes:graphframes:0.8.3-spark3.4-s_2.12\")\\\n",
        ".getOrCreate()"
      ],
      "metadata": {
        "id": "aqThub_mv9n7"
      },
      "execution_count": 4,
      "outputs": []
    },
    {
      "cell_type": "code",
      "source": [
        "from google.colab import output\n",
        "ui_port=spark.sparkContext.uiWebUrl.split(\":\")[-1]\n",
        "output.serve_kernel_port_as_window(ui_port,path='/jobs/index.html')"
      ],
      "metadata": {
        "colab": {
          "base_uri": "https://localhost:8080/",
          "height": 34
        },
        "id": "pOf94EqyBiG-",
        "outputId": "161aab25-2b3b-43b4-9e59-f68c5235406e"
      },
      "execution_count": 5,
      "outputs": [
        {
          "output_type": "display_data",
          "data": {
            "text/plain": [
              "<IPython.core.display.Javascript object>"
            ],
            "application/javascript": [
              "(async (port, path, text, element) => {\n",
              "    if (!google.colab.kernel.accessAllowed) {\n",
              "      return;\n",
              "    }\n",
              "    element.appendChild(document.createTextNode(''));\n",
              "    const url = await google.colab.kernel.proxyPort(port);\n",
              "    const anchor = document.createElement('a');\n",
              "    anchor.href = new URL(path, url).toString();\n",
              "    anchor.target = '_blank';\n",
              "    anchor.setAttribute('data-href', url + path);\n",
              "    anchor.textContent = text;\n",
              "    element.appendChild(anchor);\n",
              "  })(4705, \"/jobs/index.html\", \"https://localhost:4705/jobs/index.html\", window.element)"
            ]
          },
          "metadata": {}
        }
      ]
    },
    {
      "cell_type": "code",
      "source": [
        "# from pyspark.sql.functions import coalesce, col, lit, sum, when\n",
        "import pyspark.sql.functions as f\n",
        "from graphframes import *\n",
        "from graphframes.lib import Pregel\n",
        "\n",
        "spark.sparkContext.setCheckpointDir(\"./checkpoint/\")"
      ],
      "metadata": {
        "id": "FuEGeZ-D9Zm9"
      },
      "execution_count": 6,
      "outputs": []
    },
    {
      "cell_type": "markdown",
      "source": [
        "## BFS"
      ],
      "metadata": {
        "id": "H-SPBDQC8Kl_"
      }
    },
    {
      "cell_type": "code",
      "source": [
        "def bfs(graph, root, max_iter=10):\n",
        "    g_bfs = graph.pregel \\\n",
        "        .setMaxIter(max_iter) \\\n",
        "        .withVertexColumn(\"dist\",\n",
        "                          f.when(graph.vertices.id==root,f.lit(0.0))\\\n",
        "                          .otherwise(f.lit(float('inf'))),\n",
        "                          f.coalesce(Pregel.msg(),\\\n",
        "                                     f.lit(float('inf')))) \\\n",
        "        .sendMsgToDst(f.when(Pregel.src(\"dist\") + 1. < Pregel.dst(\"dist\"),\n",
        "                             Pregel.src(\"dist\") + 1.)\\\n",
        "                      .otherwise(Pregel.dst(\"dist\")))\\\n",
        "        .aggMsgs(f.min(Pregel.msg()))\\\n",
        "        .run()\n",
        "    return g_bfs"
      ],
      "metadata": {
        "id": "a2kxvfn-DpyL"
      },
      "execution_count": 7,
      "outputs": []
    },
    {
      "cell_type": "code",
      "source": [
        "def bfs_with_path(graph, root, max_iter=10):\n",
        "    g_bfs = graph.pregel \\\n",
        "        .setMaxIter(max_iter) \\\n",
        "        .withVertexColumn(\n",
        "            \"path\",\n",
        "            f.when(graph.vertices.id==root,f.array())\\\n",
        "            .otherwise(None),\n",
        "            f.when(\n",
        "                Pregel.msg().isNotNull(),\n",
        "                Pregel.msg()\n",
        "                ).otherwise(f.col(\"path\"))\n",
        "            ) \\\n",
        "        .sendMsgToDst(f.when(\n",
        "            (f.size(Pregel.src(\"path\"))+1<f.size(Pregel.dst(\"path\")))|(Pregel.dst(\"path\").isNull()),\n",
        "            f.array_append(Pregel.src(\"path\"),Pregel.src(\"id\")))\n",
        "        )\\\n",
        "        .aggMsgs(f.last(Pregel.msg()))\\\n",
        "        .run()\n",
        "    return g_bfs"
      ],
      "metadata": {
        "id": "gbQzLZH04yMD"
      },
      "execution_count": 57,
      "outputs": []
    },
    {
      "cell_type": "markdown",
      "source": [
        "## Simple Graph Test"
      ],
      "metadata": {
        "id": "py-YknUz8Mat"
      }
    },
    {
      "cell_type": "code",
      "source": [
        "edges = spark.createDataFrame([\n",
        "    [0, 1],\n",
        "    [1, 2],\n",
        "    [2, 4],\n",
        "    [2, 0],\n",
        "    [3, 4],\n",
        "    [4, 0],\n",
        "    [4, 2],\n",
        "    [0, 4],\n",
        "    [2, 5]\n",
        "    ], [\"src\", \"dst\"])\n",
        "\n",
        "edges.cache()\n",
        "vertices = spark.createDataFrame([[0], [1], [2], [3], [4], [5]], [\"id\"])\n",
        "vertices.show()\n",
        "\n",
        "vertices.cache()\n",
        "graph = GraphFrame(vertices, edges)\n",
        "\n",
        "t1=bfs(graph,0,max_iter=5)\n",
        "t1.show()\n",
        "\n",
        "t1p=bfs_with_path(graph,0,max_iter=5)\n",
        "t1p.show()"
      ],
      "metadata": {
        "colab": {
          "base_uri": "https://localhost:8080/"
        },
        "id": "mwlU0I175Hju",
        "outputId": "21f9e7fc-2c56-4507-809c-4d9bbf380b13"
      },
      "execution_count": 58,
      "outputs": [
        {
          "output_type": "stream",
          "name": "stdout",
          "text": [
            "+---+\n",
            "| id|\n",
            "+---+\n",
            "|  0|\n",
            "|  1|\n",
            "|  2|\n",
            "|  3|\n",
            "|  4|\n",
            "|  5|\n",
            "+---+\n",
            "\n",
            "+---+--------+\n",
            "| id|    dist|\n",
            "+---+--------+\n",
            "|  0|     0.0|\n",
            "|  5|     3.0|\n",
            "|  1|     1.0|\n",
            "|  3|Infinity|\n",
            "|  2|     2.0|\n",
            "|  4|     1.0|\n",
            "+---+--------+\n",
            "\n",
            "+---+---------+\n",
            "| id|     path|\n",
            "+---+---------+\n",
            "|  0|       []|\n",
            "|  5|[0, 4, 2]|\n",
            "|  1|      [0]|\n",
            "|  3|     null|\n",
            "|  2|   [0, 4]|\n",
            "|  4|      [0]|\n",
            "+---+---------+\n",
            "\n"
          ]
        }
      ]
    },
    {
      "cell_type": "markdown",
      "source": [
        "## `twitch_gamers` Test"
      ],
      "metadata": {
        "id": "5oXDoP-N8BaF"
      }
    },
    {
      "cell_type": "code",
      "source": [
        "# Read the excel file / rename columns\n",
        "twitch_gamers = spark.read.format(\"csv\").option(\"header\", \"true\").load(\n",
        "    \"/content/drive/MyDrive/acad/c631/twitch_subset_500.csv\").withColumnRenamed(\"numeric_id_1\",\n",
        "                                                                                          \"src\").withColumnRenamed(\n",
        "    \"numeric_id_2\", \"dst\")\n",
        "\n",
        "vertices2 = twitch_gamers.select(\"src\").union(twitch_gamers.select(\"dst\")).distinct().withColumnRenamed(\"src\", \"id\")\n",
        "vertices2.cache()\n",
        "\n",
        "edges2 = twitch_gamers.select(\"src\", \"dst\")\n",
        "edges2.cache()\n",
        "\n",
        "graph2 = GraphFrame(vertices2, edges2)\n",
        "\n",
        "# Show graph\n",
        "graph2.vertices.show()\n",
        "graph2.edges.show()"
      ],
      "metadata": {
        "colab": {
          "base_uri": "https://localhost:8080/"
        },
        "id": "Heb7kE-b7qCP",
        "outputId": "7d0924a6-a4e8-4c6f-bf74-6d1adb1907cc"
      },
      "execution_count": null,
      "outputs": [
        {
          "output_type": "stream",
          "name": "stdout",
          "text": [
            "+------+\n",
            "|    id|\n",
            "+------+\n",
            "|113417|\n",
            "|103123|\n",
            "|131033|\n",
            "|138305|\n",
            "|101021|\n",
            "| 27248|\n",
            "|  8433|\n",
            "| 70078|\n",
            "| 34043|\n",
            "|124065|\n",
            "|129564|\n",
            "|155216|\n",
            "| 48184|\n",
            "| 12508|\n",
            "|  1956|\n",
            "|  6212|\n",
            "|   700|\n",
            "| 30520|\n",
            "| 58134|\n",
            "| 92439|\n",
            "+------+\n",
            "only showing top 20 rows\n",
            "\n",
            "+-----+------+\n",
            "|  src|   dst|\n",
            "+-----+------+\n",
            "|98343|141493|\n",
            "|98343| 58736|\n",
            "|98343|140703|\n",
            "|98343|151401|\n",
            "|98343|157118|\n",
            "|98343|125430|\n",
            "|98343|  3635|\n",
            "|98343|   495|\n",
            "|98343|116648|\n",
            "|98343|  1679|\n",
            "|98343|123861|\n",
            "|98343| 89631|\n",
            "|98343|113417|\n",
            "|98343|145281|\n",
            "|98343| 10408|\n",
            "|98343|  3181|\n",
            "|98343| 40675|\n",
            "|98343| 95914|\n",
            "|98343|155127|\n",
            "|98343|124827|\n",
            "+-----+------+\n",
            "only showing top 20 rows\n",
            "\n"
          ]
        }
      ]
    },
    {
      "cell_type": "code",
      "source": [
        "t2=bfs(graph2,98343,max_iter=5)\n",
        "t2.show()"
      ],
      "metadata": {
        "colab": {
          "base_uri": "https://localhost:8080/"
        },
        "id": "GhUVuxMl8cPz",
        "outputId": "8483559c-7bcb-49e0-ea9a-baa161536198"
      },
      "execution_count": null,
      "outputs": [
        {
          "output_type": "stream",
          "name": "stdout",
          "text": [
            "+------+----+\n",
            "|    id|dist|\n",
            "+------+----+\n",
            "|101021| 2.0|\n",
            "|103123| 2.0|\n",
            "|113417| 1.0|\n",
            "|131033| 2.0|\n",
            "|138305| 2.0|\n",
            "| 27248| 2.0|\n",
            "| 70078| 2.0|\n",
            "|  8433| 2.0|\n",
            "|124065| 2.0|\n",
            "|129564| 2.0|\n",
            "| 34043| 2.0|\n",
            "|155216| 2.0|\n",
            "| 48184| 2.0|\n",
            "| 12508| 2.0|\n",
            "|  1956| 2.0|\n",
            "|  6212| 2.0|\n",
            "|   700| 2.0|\n",
            "| 30520| 1.0|\n",
            "| 58134| 2.0|\n",
            "| 92439| 2.0|\n",
            "+------+----+\n",
            "only showing top 20 rows\n",
            "\n"
          ]
        }
      ]
    },
    {
      "cell_type": "markdown",
      "source": [
        "## Full Dataset Test"
      ],
      "metadata": {
        "id": "ErjNh1QxCM5k"
      }
    },
    {
      "cell_type": "code",
      "source": [
        "# Read the excel file / rename columns\n",
        "twitch_gamers_full = spark.read.format(\"csv\").option(\"header\", \"true\").load(\n",
        "    \"/content/drive/MyDrive/acad/c631/large_twitch_edges.csv\").withColumnRenamed(\"numeric_id_1\",\n",
        "                                                                                          \"src\").withColumnRenamed(\n",
        "    \"numeric_id_2\", \"dst\")\n",
        "\n",
        "vertices3 = twitch_gamers_full.select(\"src\").union(twitch_gamers_full.select(\"dst\")).distinct().withColumnRenamed(\"src\", \"id\")\n",
        "vertices3.cache()\n",
        "\n",
        "edges3 = twitch_gamers_full.select(\"src\", \"dst\")\n",
        "edges3.cache()\n",
        "\n",
        "graph3 = GraphFrame(vertices3, edges3)\n",
        "\n",
        "# Show graph\n",
        "graph3.vertices.show()\n",
        "graph3.edges.show()"
      ],
      "metadata": {
        "colab": {
          "base_uri": "https://localhost:8080/"
        },
        "id": "YZUFMg9S_xCF",
        "outputId": "08c5b3c4-e16b-44af-db90-4e756a688470"
      },
      "execution_count": null,
      "outputs": [
        {
          "output_type": "stream",
          "name": "stdout",
          "text": [
            "+------+\n",
            "|    id|\n",
            "+------+\n",
            "|113417|\n",
            "|128181|\n",
            "| 13772|\n",
            "| 42688|\n",
            "|106585|\n",
            "|140876|\n",
            "| 46683|\n",
            "| 17427|\n",
            "|102521|\n",
            "|  2162|\n",
            "| 29454|\n",
            "| 82197|\n",
            "|131033|\n",
            "|154118|\n",
            "|147244|\n",
            "| 90391|\n",
            "|149687|\n",
            "| 76686|\n",
            "| 57569|\n",
            "| 80258|\n",
            "+------+\n",
            "only showing top 20 rows\n",
            "\n",
            "+-----+------+\n",
            "|  src|   dst|\n",
            "+-----+------+\n",
            "|98343|141493|\n",
            "|98343| 58736|\n",
            "|98343|140703|\n",
            "|98343|151401|\n",
            "|98343|157118|\n",
            "|98343|125430|\n",
            "|98343|  3635|\n",
            "|98343|   495|\n",
            "|98343|116648|\n",
            "|98343|  1679|\n",
            "|98343|123861|\n",
            "|98343| 89631|\n",
            "|98343|113417|\n",
            "|98343|145281|\n",
            "|98343| 10408|\n",
            "|98343|  3181|\n",
            "|98343| 40675|\n",
            "|98343| 95914|\n",
            "|98343|155127|\n",
            "|98343|124827|\n",
            "+-----+------+\n",
            "only showing top 20 rows\n",
            "\n"
          ]
        }
      ]
    },
    {
      "cell_type": "code",
      "source": [
        "t3=bfs(graph3,98343,max_iter=5)\n",
        "t3.show()"
      ],
      "metadata": {
        "colab": {
          "base_uri": "https://localhost:8080/"
        },
        "id": "ssfGP-3iBvnw",
        "outputId": "3e8f7d66-2fa9-48fb-c370-8833861f35d0"
      },
      "execution_count": null,
      "outputs": [
        {
          "output_type": "stream",
          "name": "stdout",
          "text": [
            "+------+----+\n",
            "|    id|dist|\n",
            "+------+----+\n",
            "|100010| 3.0|\n",
            "|100140| 3.0|\n",
            "|100227| 2.0|\n",
            "|100263| 2.0|\n",
            "|100320| 3.0|\n",
            "|100553| 3.0|\n",
            "|100704| 2.0|\n",
            "|100735| 3.0|\n",
            "|100768| 3.0|\n",
            "| 10096| 3.0|\n",
            "|100964| 3.0|\n",
            "|101021| 2.0|\n",
            "|101122| 2.0|\n",
            "|101205| 3.0|\n",
            "|101261| 3.0|\n",
            "|101272| 3.0|\n",
            "|102113| 3.0|\n",
            "|102521| 2.0|\n",
            "|102536| 3.0|\n",
            "|102539| 3.0|\n",
            "+------+----+\n",
            "only showing top 20 rows\n",
            "\n"
          ]
        }
      ]
    },
    {
      "cell_type": "markdown",
      "source": [
        "## Implement Proposed Operations"
      ],
      "metadata": {
        "id": "Wa5jwIVr7xPK"
      }
    },
    {
      "cell_type": "markdown",
      "source": [
        "### Degree of Seperation"
      ],
      "metadata": {
        "id": "YQEmsadw71VD"
      }
    },
    {
      "cell_type": "code",
      "source": [
        "def degree_of_seperation(graph, id_from, id_to, max_iter=10):\n",
        "    bfs=bfs(graph, id_from, max_iter=max_iter)\n",
        "    return bfs.filter(bfs.id==id_to).collect()[0].asDict()"
      ],
      "metadata": {
        "id": "8ooqiA877v-h"
      },
      "execution_count": null,
      "outputs": []
    },
    {
      "cell_type": "markdown",
      "source": [
        "### Degree of Seperation (single user)"
      ],
      "metadata": {
        "id": "3_mEe6ZR-iBI"
      }
    },
    {
      "cell_type": "code",
      "source": [
        "def degree_of_seperation_single(graph, id, max_iter=10):\n",
        "    bfs=bfs(graph, id, max_iter=max_iter)\n",
        "    return bfs"
      ],
      "metadata": {
        "id": "odgX96U_-hdo"
      },
      "execution_count": null,
      "outputs": []
    },
    {
      "cell_type": "markdown",
      "source": [
        "### Shortest Path from Single Source"
      ],
      "metadata": {
        "id": "zQ6TcWM9H1-N"
      }
    },
    {
      "cell_type": "code",
      "source": [
        "def sssp(graph, id, max_iter=10):\n",
        "    bfs=bfs_with_path(graph, id, max_iter=max_iter)\n",
        "    return bfs"
      ],
      "metadata": {
        "id": "qWAIl--4H9AY"
      },
      "execution_count": null,
      "outputs": []
    }
  ]
}