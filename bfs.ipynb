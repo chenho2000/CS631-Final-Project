{
  "nbformat": 4,
  "nbformat_minor": 0,
  "metadata": {
    "colab": {
      "provenance": [],
      "authorship_tag": "ABX9TyNGhEY88lEChZeg4hTSWQAT"
    },
    "kernelspec": {
      "name": "python3",
      "display_name": "Python 3"
    },
    "language_info": {
      "name": "python"
    }
  },
  "cells": [
    {
      "cell_type": "markdown",
      "source": [
        "## Mount Google Drive"
      ],
      "metadata": {
        "id": "UDrt8Vem8TNV"
      }
    },
    {
      "cell_type": "code",
      "source": [
        "from google.colab import drive\n",
        "\n",
        "drive.mount('/content/drive')"
      ],
      "metadata": {
        "colab": {
          "base_uri": "https://localhost:8080/"
        },
        "id": "gP0HSmRm4vcD",
        "outputId": "21958430-39b4-4771-cc73-efaa0a7a16bc"
      },
      "execution_count": null,
      "outputs": [
        {
          "output_type": "stream",
          "name": "stdout",
          "text": [
            "Mounted at /content/drive\n"
          ]
        }
      ]
    },
    {
      "cell_type": "markdown",
      "source": [
        "## Naive Python Implementation"
      ],
      "metadata": {
        "id": "mH6ZJSzUJ-qN"
      }
    },
    {
      "cell_type": "markdown",
      "source": [
        "### Naive BFS"
      ],
      "metadata": {
        "id": "a-CT-kTzPdMQ"
      }
    },
    {
      "cell_type": "code",
      "source": [
        "def naive_bfs(root,edges,result,max_iter=10):\n",
        "    result[root]=0\n",
        "    for i in range(max_iter):\n",
        "        for k in edges.keys():\n",
        "            for d in edges[k]:\n",
        "                if result[k]+1<result[d]:\n",
        "                    result[d]=result[k]+1\n",
        "\n",
        "def naive_bfs_path(root,edges,result,max_iter=10):\n",
        "    result[root]=[]\n",
        "    for i in range(max_iter):\n",
        "        for k in edges.keys():\n",
        "            for d in edges[k]:\n",
        "                if (len(result[k])+1<len(result[d])) or (len(result[d])==0 and d!=root):\n",
        "                    result[d]=result[k]+[k]"
      ],
      "metadata": {
        "id": "4_2Ystj6Pd2n"
      },
      "execution_count": null,
      "outputs": []
    },
    {
      "cell_type": "markdown",
      "source": [
        "### Naive Read"
      ],
      "metadata": {
        "id": "eY6CetgTZrVw"
      }
    },
    {
      "cell_type": "code",
      "source": [
        "import csv\n",
        "from collections import defaultdict\n",
        "\n",
        "def naive_read(fname,w_path=False):\n",
        "    edges=defaultdict(list)\n",
        "    result=defaultdict(list) if w_path else defaultdict(float)\n",
        "    with open(fname, 'r') as f:\n",
        "        reader = csv.reader(f)\n",
        "        next(reader)  # Discard header line\n",
        "        for row in reader:\n",
        "            edges[int(row[0])].append(int(row[1]))\n",
        "            if not w_path:\n",
        "                result[int(row[0])]=float('inf')\n",
        "                result[int(row[1])]=float('inf')\n",
        "    return edges,result"
      ],
      "metadata": {
        "id": "euqX0ce1PkXo"
      },
      "execution_count": null,
      "outputs": []
    },
    {
      "cell_type": "markdown",
      "source": [
        "### Benchmark"
      ],
      "metadata": {
        "id": "j0Mp2WhKZt6u"
      }
    },
    {
      "cell_type": "code",
      "source": [
        "import tracemalloc\n",
        "import time\n",
        "\n",
        "tracemalloc.start()\n",
        "tracemalloc.reset_peak()\n",
        "py_time_s=time.time()\n",
        "\n",
        "twitch_data_500_py,result_500_py=naive_read('/content/drive/MyDrive/acad/c631/twitch_subset_500.csv')\n",
        "naive_bfs(98343,twitch_data_500_py,result_500_py,5)\n",
        "\n",
        "print(time.time()-py_time_s)\n",
        "print(tracemalloc.get_traced_memory()[1]/1024/1024)"
      ],
      "metadata": {
        "id": "Ke5WBvWKKFlp"
      },
      "execution_count": null,
      "outputs": []
    },
    {
      "cell_type": "code",
      "source": [
        "tracemalloc.start()\n",
        "tracemalloc.reset_peak()\n",
        "py_time_s=time.time()\n",
        "\n",
        "twitch_data_py,result_py=naive_read('/content/drive/MyDrive/acad/c631/large_twitch_edges.csv')\n",
        "naive_bfs(98343,twitch_data_py,result_py,5)\n",
        "\n",
        "print(time.time()-py_time_s)\n",
        "print(tracemalloc.get_traced_memory()[1]/1024/1024)"
      ],
      "metadata": {
        "id": "e7j9QZ6IQPgq"
      },
      "execution_count": null,
      "outputs": []
    },
    {
      "cell_type": "code",
      "source": [
        "tracemalloc.start()\n",
        "tracemalloc.reset_peak()\n",
        "py_time_s=time.time()\n",
        "\n",
        "twitch_data_500_py,result_500_py=naive_read('/content/drive/MyDrive/acad/c631/twitch_subset_500.csv',w_path=True)\n",
        "naive_bfs_path(98343,twitch_data_500_py,result_500_py,5)\n",
        "\n",
        "print(time.time()-py_time_s)\n",
        "print(tracemalloc.get_traced_memory()[1]/1024/1024)"
      ],
      "metadata": {
        "id": "d1MHJOIJWRUJ"
      },
      "execution_count": null,
      "outputs": []
    },
    {
      "cell_type": "code",
      "source": [
        "tracemalloc.start()\n",
        "tracemalloc.reset_peak()\n",
        "py_time_s=time.time()\n",
        "\n",
        "twitch_data_py,result_py=naive_read('/content/drive/MyDrive/acad/c631/large_twitch_edges.csv',w_path=True)\n",
        "naive_bfs_path(98343,twitch_data_py,result_py,5)\n",
        "\n",
        "print(time.time()-py_time_s)\n",
        "print(tracemalloc.get_traced_memory()[1]/1024/1024)"
      ],
      "metadata": {
        "id": "Gbi0ntFLWL98"
      },
      "execution_count": null,
      "outputs": []
    },
    {
      "cell_type": "markdown",
      "source": [
        "## Spark Setup"
      ],
      "metadata": {
        "id": "UPYkzpiv8VZg"
      }
    },
    {
      "cell_type": "code",
      "execution_count": null,
      "metadata": {
        "id": "2L6noIt6vsGX"
      },
      "outputs": [],
      "source": [
        "!apt-get update -qq > /dev/null\n",
        "!apt-get install openjdk-8-jdk-headless -qq > /dev/null\n",
        "!wget -q https://dlcdn.apache.org/spark/spark-3.4.2/spark-3.4.2-bin-hadoop3.tgz\n",
        "!tar xf spark-3.4.2-bin-hadoop3.tgz\n",
        "!pip install -q findspark"
      ]
    },
    {
      "cell_type": "code",
      "source": [
        "import os\n",
        "os.environ[\"JAVA_HOME\"] = \"/usr/lib/jvm/java-8-openjdk-amd64\"\n",
        "os.environ[\"SPARK_HOME\"] = \"/content/spark-3.4.2-bin-hadoop3\"\n",
        "\n",
        "import findspark\n",
        "findspark.init()\n",
        "\n",
        "\n",
        "from pyspark.sql import SparkSession\n",
        "import random\n",
        "spark = SparkSession.builder.appName(\"YourTest\")\\\n",
        ".master(\"local[2]\")\\\n",
        ".config('spark.ui.port', random.randrange(4000,5000))\\\n",
        ".config(\"spark.jars.packages\",\"graphframes:graphframes:0.8.3-spark3.4-s_2.12\")\\\n",
        ".getOrCreate()"
      ],
      "metadata": {
        "id": "aqThub_mv9n7"
      },
      "execution_count": null,
      "outputs": []
    },
    {
      "cell_type": "code",
      "source": [
        "from google.colab import output\n",
        "ui_port=spark.sparkContext.uiWebUrl.split(\":\")[-1]\n",
        "output.serve_kernel_port_as_window(ui_port,path='/jobs/index.html')"
      ],
      "metadata": {
        "colab": {
          "base_uri": "https://localhost:8080/",
          "height": 34
        },
        "id": "pOf94EqyBiG-",
        "outputId": "cebe3f0c-8005-49ba-b87d-5ffe3e8900a7"
      },
      "execution_count": null,
      "outputs": [
        {
          "output_type": "display_data",
          "data": {
            "text/plain": [
              "<IPython.core.display.Javascript object>"
            ],
            "application/javascript": [
              "(async (port, path, text, element) => {\n",
              "    if (!google.colab.kernel.accessAllowed) {\n",
              "      return;\n",
              "    }\n",
              "    element.appendChild(document.createTextNode(''));\n",
              "    const url = await google.colab.kernel.proxyPort(port);\n",
              "    const anchor = document.createElement('a');\n",
              "    anchor.href = new URL(path, url).toString();\n",
              "    anchor.target = '_blank';\n",
              "    anchor.setAttribute('data-href', url + path);\n",
              "    anchor.textContent = text;\n",
              "    element.appendChild(anchor);\n",
              "  })(4941, \"/jobs/index.html\", \"https://localhost:4941/jobs/index.html\", window.element)"
            ]
          },
          "metadata": {}
        }
      ]
    },
    {
      "cell_type": "code",
      "source": [
        "# from pyspark.sql.functions import coalesce, col, lit, sum, when\n",
        "import pyspark.sql.functions as f\n",
        "from graphframes import *\n",
        "from graphframes.lib import Pregel\n",
        "\n",
        "spark.sparkContext.setCheckpointDir(\"./checkpoint/\")"
      ],
      "metadata": {
        "id": "FuEGeZ-D9Zm9"
      },
      "execution_count": null,
      "outputs": []
    },
    {
      "cell_type": "markdown",
      "source": [
        "## BFS"
      ],
      "metadata": {
        "id": "H-SPBDQC8Kl_"
      }
    },
    {
      "cell_type": "code",
      "source": [
        "def bfs(graph, root, max_iter=10):\n",
        "    g_bfs = graph.pregel \\\n",
        "        .setMaxIter(max_iter) \\\n",
        "        .withVertexColumn(\"dist\",\n",
        "                          f.when(graph.vertices.id==root,f.lit(0.0))\\\n",
        "                          .otherwise(f.lit(float('inf'))),\n",
        "                          f.coalesce(Pregel.msg(),\\\n",
        "                                     f.lit(float('inf')))) \\\n",
        "        .sendMsgToDst(f.when(Pregel.src(\"dist\") + 1. < Pregel.dst(\"dist\"),\n",
        "                             Pregel.src(\"dist\") + 1.)\\\n",
        "                      .otherwise(Pregel.dst(\"dist\")))\\\n",
        "        .aggMsgs(f.min(Pregel.msg()))\\\n",
        "        .run()\n",
        "    return g_bfs"
      ],
      "metadata": {
        "id": "a2kxvfn-DpyL"
      },
      "execution_count": null,
      "outputs": []
    },
    {
      "cell_type": "code",
      "source": [
        "def bfs_with_path(graph, root, max_iter=10):\n",
        "    g_bfs = graph.pregel \\\n",
        "        .setMaxIter(max_iter) \\\n",
        "        .withVertexColumn(\n",
        "            \"path\",\n",
        "            f.when(graph.vertices.id==root,f.array())\\\n",
        "            .otherwise(None),\n",
        "            f.when(\n",
        "                Pregel.msg().isNotNull(),\n",
        "                Pregel.msg()\n",
        "                ).otherwise(f.col(\"path\"))\n",
        "            ) \\\n",
        "        .sendMsgToDst(f.when(\n",
        "            (f.size(Pregel.src(\"path\"))+1<f.size(Pregel.dst(\"path\")))|(Pregel.dst(\"path\").isNull()),\n",
        "            f.array_append(Pregel.src(\"path\"),Pregel.src(\"id\")))\n",
        "        )\\\n",
        "        .aggMsgs(f.last(Pregel.msg()))\\\n",
        "        .run()\n",
        "    return g_bfs"
      ],
      "metadata": {
        "id": "gbQzLZH04yMD"
      },
      "execution_count": null,
      "outputs": []
    },
    {
      "cell_type": "markdown",
      "source": [
        "## Implement Proposed Operations"
      ],
      "metadata": {
        "id": "Wa5jwIVr7xPK"
      }
    },
    {
      "cell_type": "markdown",
      "source": [
        "### Degree of Seperation"
      ],
      "metadata": {
        "id": "YQEmsadw71VD"
      }
    },
    {
      "cell_type": "code",
      "source": [
        "def degree_of_seperation(graph, id_from, id_to, max_iter=10):\n",
        "    bfs=bfs(graph, id_from, max_iter=max_iter)\n",
        "    return bfs.filter(bfs.id==id_to).collect()[0].asDict()"
      ],
      "metadata": {
        "id": "8ooqiA877v-h"
      },
      "execution_count": null,
      "outputs": []
    },
    {
      "cell_type": "markdown",
      "source": [
        "### Degree of Seperation (single user)"
      ],
      "metadata": {
        "id": "3_mEe6ZR-iBI"
      }
    },
    {
      "cell_type": "code",
      "source": [
        "def degree_of_seperation_single(graph, id, max_iter=10):\n",
        "    bfs=bfs(graph, id, max_iter=max_iter)\n",
        "    return bfs"
      ],
      "metadata": {
        "id": "odgX96U_-hdo"
      },
      "execution_count": null,
      "outputs": []
    },
    {
      "cell_type": "markdown",
      "source": [
        "### Shortest Path from Single Source"
      ],
      "metadata": {
        "id": "zQ6TcWM9H1-N"
      }
    },
    {
      "cell_type": "code",
      "source": [
        "def sssp(graph, id, max_iter=10):\n",
        "    bfs=bfs_with_path(graph, id, max_iter=max_iter)\n",
        "    return bfs"
      ],
      "metadata": {
        "id": "qWAIl--4H9AY"
      },
      "execution_count": null,
      "outputs": []
    },
    {
      "cell_type": "markdown",
      "source": [
        "## Simple Graph Test"
      ],
      "metadata": {
        "id": "py-YknUz8Mat"
      }
    },
    {
      "cell_type": "code",
      "source": [
        "edges = spark.createDataFrame([\n",
        "    [0, 1],\n",
        "    [1, 2],\n",
        "    [2, 4],\n",
        "    [2, 0],\n",
        "    [3, 4],\n",
        "    [4, 0],\n",
        "    [4, 2],\n",
        "    [0, 4],\n",
        "    [2, 5]\n",
        "    ], [\"src\", \"dst\"])\n",
        "\n",
        "edges.cache()\n",
        "vertices = spark.createDataFrame([[0], [1], [2], [3], [4], [5]], [\"id\"])\n",
        "vertices.show()\n",
        "\n",
        "vertices.cache()\n",
        "graph = GraphFrame(vertices, edges)"
      ],
      "metadata": {
        "colab": {
          "base_uri": "https://localhost:8080/"
        },
        "id": "mwlU0I175Hju",
        "outputId": "a9dd231b-6f7d-4477-f4f5-43752eaad137"
      },
      "execution_count": null,
      "outputs": [
        {
          "output_type": "stream",
          "name": "stdout",
          "text": [
            "+---+\n",
            "| id|\n",
            "+---+\n",
            "|  0|\n",
            "|  1|\n",
            "|  2|\n",
            "|  3|\n",
            "|  4|\n",
            "|  5|\n",
            "+---+\n",
            "\n",
            "+---+--------+\n",
            "| id|    dist|\n",
            "+---+--------+\n",
            "|  0|     0.0|\n",
            "|  5|     3.0|\n",
            "|  1|     1.0|\n",
            "|  3|Infinity|\n",
            "|  2|     2.0|\n",
            "|  4|     1.0|\n",
            "+---+--------+\n",
            "\n",
            "+---+---------+\n",
            "| id|     path|\n",
            "+---+---------+\n",
            "|  0|       []|\n",
            "|  5|[0, 4, 2]|\n",
            "|  1|      [0]|\n",
            "|  3|     null|\n",
            "|  2|   [0, 4]|\n",
            "|  4|      [0]|\n",
            "+---+---------+\n",
            "\n"
          ]
        }
      ]
    },
    {
      "cell_type": "code",
      "source": [
        "t1=degree_of_seperation(graph,0,max_iter=5)\n",
        "t1.show()"
      ],
      "metadata": {
        "id": "2q2wESUzbp0n"
      },
      "execution_count": null,
      "outputs": []
    },
    {
      "cell_type": "code",
      "source": [
        "t1p=sssp(graph,0,max_iter=5)\n",
        "t1p.show()"
      ],
      "metadata": {
        "id": "dpSmb8MTbnI1"
      },
      "execution_count": null,
      "outputs": []
    },
    {
      "cell_type": "markdown",
      "source": [
        "## `twitch_gamers` Test (Reduced)"
      ],
      "metadata": {
        "id": "5oXDoP-N8BaF"
      }
    },
    {
      "cell_type": "code",
      "source": [
        "# Read the excel file / rename columns\n",
        "twitch_gamers = spark.read.format(\"csv\").option(\"header\", \"true\").load(\n",
        "    \"/content/drive/MyDrive/acad/c631/twitch_subset_500.csv\").withColumnRenamed(\"numeric_id_1\",\n",
        "                                                                                          \"src\").withColumnRenamed(\n",
        "    \"numeric_id_2\", \"dst\")\n",
        "\n",
        "vertices2 = twitch_gamers.select(\"src\").union(twitch_gamers.select(\"dst\")).distinct().withColumnRenamed(\"src\", \"id\")\n",
        "vertices2.cache()\n",
        "\n",
        "edges2 = twitch_gamers.select(\"src\", \"dst\")\n",
        "edges2.cache()\n",
        "\n",
        "graph2 = GraphFrame(vertices2, edges2)\n",
        "\n",
        "# Show graph\n",
        "graph2.vertices.show()\n",
        "graph2.edges.show()"
      ],
      "metadata": {
        "colab": {
          "base_uri": "https://localhost:8080/"
        },
        "id": "Heb7kE-b7qCP",
        "outputId": "e4a1f7ef-0d18-4951-e137-b93212b4d1b6"
      },
      "execution_count": null,
      "outputs": [
        {
          "output_type": "stream",
          "name": "stdout",
          "text": [
            "+------+\n",
            "|    id|\n",
            "+------+\n",
            "|113417|\n",
            "|103123|\n",
            "|131033|\n",
            "|138305|\n",
            "|101021|\n",
            "| 27248|\n",
            "|  8433|\n",
            "| 70078|\n",
            "| 34043|\n",
            "|124065|\n",
            "|129564|\n",
            "|155216|\n",
            "| 48184|\n",
            "| 12508|\n",
            "|  1956|\n",
            "|  6212|\n",
            "|   700|\n",
            "| 30520|\n",
            "| 58134|\n",
            "| 92439|\n",
            "+------+\n",
            "only showing top 20 rows\n",
            "\n",
            "+-----+------+\n",
            "|  src|   dst|\n",
            "+-----+------+\n",
            "|98343|141493|\n",
            "|98343| 58736|\n",
            "|98343|140703|\n",
            "|98343|151401|\n",
            "|98343|157118|\n",
            "|98343|125430|\n",
            "|98343|  3635|\n",
            "|98343|   495|\n",
            "|98343|116648|\n",
            "|98343|  1679|\n",
            "|98343|123861|\n",
            "|98343| 89631|\n",
            "|98343|113417|\n",
            "|98343|145281|\n",
            "|98343| 10408|\n",
            "|98343|  3181|\n",
            "|98343| 40675|\n",
            "|98343| 95914|\n",
            "|98343|155127|\n",
            "|98343|124827|\n",
            "+-----+------+\n",
            "only showing top 20 rows\n",
            "\n"
          ]
        }
      ]
    },
    {
      "cell_type": "code",
      "source": [
        "t2=degree_of_seperation(graph2,98343,max_iter=5)\n",
        "t2.show()"
      ],
      "metadata": {
        "colab": {
          "base_uri": "https://localhost:8080/"
        },
        "id": "GhUVuxMl8cPz",
        "outputId": "6951b243-2805-4edf-e5b1-033ecb69c836"
      },
      "execution_count": null,
      "outputs": [
        {
          "output_type": "stream",
          "name": "stdout",
          "text": [
            "+------+----+\n",
            "|    id|dist|\n",
            "+------+----+\n",
            "|101021| 2.0|\n",
            "|103123| 2.0|\n",
            "|113417| 1.0|\n",
            "|131033| 2.0|\n",
            "|138305| 2.0|\n",
            "| 27248| 2.0|\n",
            "| 70078| 2.0|\n",
            "|  8433| 2.0|\n",
            "|124065| 2.0|\n",
            "|129564| 2.0|\n",
            "| 34043| 2.0|\n",
            "|155216| 2.0|\n",
            "| 48184| 2.0|\n",
            "| 12508| 2.0|\n",
            "|  1956| 2.0|\n",
            "|  6212| 2.0|\n",
            "|   700| 2.0|\n",
            "| 30520| 1.0|\n",
            "| 58134| 2.0|\n",
            "| 92439| 2.0|\n",
            "+------+----+\n",
            "only showing top 20 rows\n",
            "\n"
          ]
        }
      ]
    },
    {
      "cell_type": "code",
      "source": [
        "t2p=sssp(graph2,98343,max_iter=5)\n",
        "t2p.show()"
      ],
      "metadata": {
        "colab": {
          "base_uri": "https://localhost:8080/"
        },
        "id": "V4c0NdK1bwK3",
        "outputId": "9411dcbd-fc4c-4e15-fb9e-a14a436884fe"
      },
      "execution_count": null,
      "outputs": [
        {
          "output_type": "stream",
          "name": "stdout",
          "text": [
            "+------+---------------+\n",
            "|    id|           path|\n",
            "+------+---------------+\n",
            "|101021|[98343, 141493]|\n",
            "|103123|[98343, 141493]|\n",
            "|113417|        [98343]|\n",
            "|131033|[98343, 141493]|\n",
            "|138305|[98343, 141493]|\n",
            "| 27248|[98343, 141493]|\n",
            "| 70078|[98343, 141493]|\n",
            "|  8433|[98343, 141493]|\n",
            "|124065|[98343, 141493]|\n",
            "|129564|[98343, 141493]|\n",
            "| 34043|[98343, 141493]|\n",
            "|155216|[98343, 141493]|\n",
            "| 48184|[98343, 141493]|\n",
            "| 12508|[98343, 141493]|\n",
            "|  1956|[98343, 141493]|\n",
            "|  6212|[98343, 141493]|\n",
            "|   700|[98343, 141493]|\n",
            "| 30520|        [98343]|\n",
            "| 58134|[98343, 141493]|\n",
            "| 92439|[98343, 141493]|\n",
            "+------+---------------+\n",
            "only showing top 20 rows\n",
            "\n"
          ]
        }
      ]
    },
    {
      "cell_type": "markdown",
      "source": [
        "## `twitch_gamers` Test (Full)"
      ],
      "metadata": {
        "id": "ErjNh1QxCM5k"
      }
    },
    {
      "cell_type": "code",
      "source": [
        "# Read the excel file / rename columns\n",
        "twitch_gamers_full = spark.read.format(\"csv\").option(\"header\", \"true\").load(\n",
        "    \"/content/drive/MyDrive/acad/c631/large_twitch_edges.csv\").withColumnRenamed(\"numeric_id_1\",\n",
        "                                                                                          \"src\").withColumnRenamed(\n",
        "    \"numeric_id_2\", \"dst\")\n",
        "\n",
        "vertices3 = twitch_gamers_full.select(\"src\").union(twitch_gamers_full.select(\"dst\")).distinct().withColumnRenamed(\"src\", \"id\")\n",
        "vertices3.cache()\n",
        "\n",
        "edges3 = twitch_gamers_full.select(\"src\", \"dst\")\n",
        "edges3.cache()\n",
        "\n",
        "graph3 = GraphFrame(vertices3, edges3)\n",
        "\n",
        "# Show graph\n",
        "graph3.vertices.show()\n",
        "graph3.edges.show()"
      ],
      "metadata": {
        "colab": {
          "base_uri": "https://localhost:8080/"
        },
        "id": "YZUFMg9S_xCF",
        "outputId": "5737c67f-0122-4c06-9e6f-7aae24258c7d"
      },
      "execution_count": null,
      "outputs": [
        {
          "output_type": "stream",
          "name": "stdout",
          "text": [
            "+------+\n",
            "|    id|\n",
            "+------+\n",
            "|113417|\n",
            "|128181|\n",
            "| 13772|\n",
            "| 42688|\n",
            "|106585|\n",
            "|140876|\n",
            "| 46683|\n",
            "| 17427|\n",
            "|102521|\n",
            "|  2162|\n",
            "| 29454|\n",
            "| 82197|\n",
            "|131033|\n",
            "|154118|\n",
            "|147244|\n",
            "| 90391|\n",
            "|149687|\n",
            "| 76686|\n",
            "| 57569|\n",
            "| 80258|\n",
            "+------+\n",
            "only showing top 20 rows\n",
            "\n",
            "+-----+------+\n",
            "|  src|   dst|\n",
            "+-----+------+\n",
            "|98343|141493|\n",
            "|98343| 58736|\n",
            "|98343|140703|\n",
            "|98343|151401|\n",
            "|98343|157118|\n",
            "|98343|125430|\n",
            "|98343|  3635|\n",
            "|98343|   495|\n",
            "|98343|116648|\n",
            "|98343|  1679|\n",
            "|98343|123861|\n",
            "|98343| 89631|\n",
            "|98343|113417|\n",
            "|98343|145281|\n",
            "|98343| 10408|\n",
            "|98343|  3181|\n",
            "|98343| 40675|\n",
            "|98343| 95914|\n",
            "|98343|155127|\n",
            "|98343|124827|\n",
            "+-----+------+\n",
            "only showing top 20 rows\n",
            "\n"
          ]
        }
      ]
    },
    {
      "cell_type": "code",
      "source": [
        "t3=bfs(graph3,98343,max_iter=6)\n",
        "t3.show()"
      ],
      "metadata": {
        "colab": {
          "base_uri": "https://localhost:8080/"
        },
        "id": "ssfGP-3iBvnw",
        "outputId": "1899d51d-a70f-4873-db0e-96955e51c52e"
      },
      "execution_count": null,
      "outputs": [
        {
          "output_type": "stream",
          "name": "stdout",
          "text": [
            "+------+----+\n",
            "|    id|dist|\n",
            "+------+----+\n",
            "|100010| 3.0|\n",
            "|100140| 3.0|\n",
            "|100227| 2.0|\n",
            "|100263| 2.0|\n",
            "|100320| 3.0|\n",
            "|100553| 3.0|\n",
            "|100704| 2.0|\n",
            "|100735| 3.0|\n",
            "|100768| 3.0|\n",
            "| 10096| 3.0|\n",
            "|100964| 3.0|\n",
            "|101021| 2.0|\n",
            "|101122| 2.0|\n",
            "|101205| 3.0|\n",
            "|101261| 3.0|\n",
            "|101272| 3.0|\n",
            "|102113| 3.0|\n",
            "|102521| 2.0|\n",
            "|102536| 3.0|\n",
            "|102539| 3.0|\n",
            "+------+----+\n",
            "only showing top 20 rows\n",
            "\n"
          ]
        }
      ]
    },
    {
      "cell_type": "code",
      "source": [
        "t3p=sssp(graph3,98343,max_iter=5)\n",
        "t3p.show()"
      ],
      "metadata": {
        "id": "V9YCt7Y_aDml"
      },
      "execution_count": null,
      "outputs": []
    },
    {
      "cell_type": "code",
      "source": [
        "reachable=t3.where(t3.dist<float(\"inf\"))"
      ],
      "metadata": {
        "id": "aVD--8eHneKc"
      },
      "execution_count": null,
      "outputs": []
    },
    {
      "cell_type": "code",
      "source": [
        "t3.where(t3.dist==1.).select(f.count(t3.dist)).show()"
      ],
      "metadata": {
        "colab": {
          "base_uri": "https://localhost:8080/"
        },
        "id": "ojrZWsnSrgSi",
        "outputId": "5062df5a-09dc-499e-88ec-d66e99a77e4e"
      },
      "execution_count": null,
      "outputs": [
        {
          "output_type": "stream",
          "name": "stdout",
          "text": [
            "+-----------+\n",
            "|count(dist)|\n",
            "+-----------+\n",
            "|         39|\n",
            "+-----------+\n",
            "\n"
          ]
        }
      ]
    },
    {
      "cell_type": "code",
      "source": [
        "t3.select(f.count(t3.dist)).show()"
      ],
      "metadata": {
        "colab": {
          "base_uri": "https://localhost:8080/"
        },
        "id": "goVI0GILpTrY",
        "outputId": "cea8fac5-f6dd-43f6-a0ff-751aed31a2aa"
      },
      "execution_count": null,
      "outputs": [
        {
          "output_type": "stream",
          "name": "stdout",
          "text": [
            "+-----------+\n",
            "|count(dist)|\n",
            "+-----------+\n",
            "|     168114|\n",
            "+-----------+\n",
            "\n"
          ]
        }
      ]
    },
    {
      "cell_type": "code",
      "source": [
        "reachable.select(f.count(t3.dist)).show()"
      ],
      "metadata": {
        "colab": {
          "base_uri": "https://localhost:8080/"
        },
        "id": "XyqzhZmVnNZv",
        "outputId": "b3b0330b-c53b-413f-8978-4c733d35d446"
      },
      "execution_count": null,
      "outputs": [
        {
          "output_type": "stream",
          "name": "stdout",
          "text": [
            "+-----------+\n",
            "|count(dist)|\n",
            "+-----------+\n",
            "|     167894|\n",
            "+-----------+\n",
            "\n"
          ]
        }
      ]
    },
    {
      "cell_type": "code",
      "source": [
        "reachable.select(f.max(t3.dist)).show()"
      ],
      "metadata": {
        "colab": {
          "base_uri": "https://localhost:8080/"
        },
        "id": "tkgFLspMnlsX",
        "outputId": "969840bc-ce70-4d29-f4ba-f6392ccb2b97"
      },
      "execution_count": null,
      "outputs": [
        {
          "output_type": "stream",
          "name": "stdout",
          "text": [
            "+---------+\n",
            "|max(dist)|\n",
            "+---------+\n",
            "|      5.0|\n",
            "+---------+\n",
            "\n"
          ]
        }
      ]
    },
    {
      "cell_type": "code",
      "source": [
        "reachable.select(f.avg(t3.dist)).show()"
      ],
      "metadata": {
        "colab": {
          "base_uri": "https://localhost:8080/"
        },
        "id": "aSzjGdQglRDa",
        "outputId": "0d38be89-7aaa-44c2-e466-4dc8df56fc26"
      },
      "execution_count": null,
      "outputs": [
        {
          "output_type": "stream",
          "name": "stdout",
          "text": [
            "+-----------------+\n",
            "|        avg(dist)|\n",
            "+-----------------+\n",
            "|2.802792237959665|\n",
            "+-----------------+\n",
            "\n"
          ]
        }
      ]
    },
    {
      "cell_type": "code",
      "source": [
        "reachable.select(f.median(t3.dist)).show()"
      ],
      "metadata": {
        "colab": {
          "base_uri": "https://localhost:8080/"
        },
        "id": "JmepLn9YsBJ4",
        "outputId": "dd54e087-2d7a-48fd-949c-40addc3872bb"
      },
      "execution_count": null,
      "outputs": [
        {
          "output_type": "stream",
          "name": "stdout",
          "text": [
            "+------------+\n",
            "|median(dist)|\n",
            "+------------+\n",
            "|         3.0|\n",
            "+------------+\n",
            "\n"
          ]
        }
      ]
    },
    {
      "cell_type": "code",
      "source": [
        "!pip install -q pyspark_dist_explore"
      ],
      "metadata": {
        "id": "20JwPPLWr4k1"
      },
      "execution_count": null,
      "outputs": []
    },
    {
      "cell_type": "code",
      "source": [
        "from pyspark_dist_explore import hist, Histogram\n",
        "import matplotlib.pyplot as plt\n",
        "\n",
        "fig, ax = plt.subplots()\n",
        "hist(ax, t3.select('dist'), bins = [0,1,2,3,4,5], color=['blue'])"
      ],
      "metadata": {
        "colab": {
          "base_uri": "https://localhost:8080/",
          "height": 482
        },
        "id": "P4quPpaFnVvz",
        "outputId": "c60ffee4-f2cc-4ea7-e262-90ebb1299823"
      },
      "execution_count": null,
      "outputs": [
        {
          "output_type": "execute_result",
          "data": {
            "text/plain": [
              "(array([0.00000e+00, 3.90000e+01, 4.13320e+04, 1.59752e+05, 1.67894e+05]),\n",
              " array([0., 1., 2., 3., 4., 5.]),\n",
              " <BarContainer object of 5 artists>)"
            ]
          },
          "metadata": {},
          "execution_count": 52
        },
        {
          "output_type": "display_data",
          "data": {
            "text/plain": [
              "<Figure size 640x480 with 1 Axes>"
            ],
            "image/png": "[encoded data removed]"
          },
          "metadata": {}
        }
      ]
    },
    {
      "cell_type": "code",
      "source": [
        "fig, ax = plt.subplots()\n",
        "hist(ax, t3.select('dist'), bins = [0,1,2,3,4,5], color=['blue'])"
      ],
      "metadata": {
        "id": "mPrzzbZW0F26"
      },
      "execution_count": null,
      "outputs": []
    }
  ]
}