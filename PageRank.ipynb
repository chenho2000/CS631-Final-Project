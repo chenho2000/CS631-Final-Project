{
 "nbformat": 4,
 "nbformat_minor": 0,
 "metadata": {
  "colab": {
   "provenance": []
  },
  "kernelspec": {
   "name": "python3",
   "display_name": "Python 3"
  },
  "language_info": {
   "name": "python"
  }
 },
 "cells": [
  {
   "cell_type": "markdown",
   "source": [
    "**Mount Google Drive**"
   ],
   "metadata": {
    "id": "XmcaQJUOSDr1"
   }
  },
  {
   "cell_type": "code",
   "execution_count": 1,
   "metadata": {
    "colab": {
     "base_uri": "https://localhost:8080/"
    },
    "id": "ZFK8TmGqrw-g",
    "outputId": "67a39492-b17a-4115-e9a5-7d112773651d"
   },
   "outputs": [
    {
     "output_type": "stream",
     "name": "stdout",
     "text": [
      "Mounted at /content/drive\n"
     ]
    }
   ],
   "source": [
    "from google.colab import drive\n",
    "\n",
    "drive.mount('/content/drive')"
   ]
  },
  {
   "cell_type": "markdown",
   "source": [
    "**Setup**"
   ],
   "metadata": {
    "id": "Q_BHkJ8BSGxA"
   }
  },
  {
   "cell_type": "code",
   "source": [
    "!apt-get update -qq > /dev/null\n",
    "!apt-get install openjdk-8-jdk-headless -qq > /dev/null\n",
    "!wget -q https://dlcdn.apache.org/spark/spark-3.4.2/spark-3.4.2-bin-hadoop3.tgz\n",
    "!tar xf spark-3.4.2-bin-hadoop3.tgz\n",
    "!pip install -q findspark"
   ],
   "metadata": {
    "id": "tvFED4yVgjg0"
   },
   "execution_count": 2,
   "outputs": []
  },
  {
   "cell_type": "code",
   "source": [
    "import os\n",
    "import pandas as pd\n",
    "\n",
    "os.environ[\"JAVA_HOME\"] = \"/usr/lib/jvm/java-8-openjdk-amd64\"\n",
    "os.environ[\"SPARK_HOME\"] = \"/content/spark-3.4.2-bin-hadoop3\"\n",
    "\n",
    "import findspark\n",
    "\n",
    "findspark.init()\n",
    "\n",
    "from pyspark.sql import SparkSession\n",
    "import random\n",
    "\n",
    "spark = SparkSession.builder.appName(\"YourTest\") \\\n",
    "    .master(\"local[2]\") \\\n",
    "    .config('spark.ui.port', random.randrange(4000, 5000)) \\\n",
    "    .config(\"spark.jars.packages\", \"graphframes:graphframes:0.8.3-spark3.4-s_2.12\") \\\n",
    "    .getOrCreate()\n",
    "\n",
    "from graphframes import GraphFrame\n",
    "from graphframes.lib import Pregel\n",
    "import pyspark.sql.functions as f\n",
    "\n",
    "spark.sparkContext.setCheckpointDir(\"./checkpoint/\")"
   ],
   "metadata": {
    "id": "mCC6uOoEgoNz"
   },
   "execution_count": 3,
   "outputs": []
  },
  {
   "cell_type": "code",
   "source": [
    "# add loop to aviod deadend\n",
    "df = pd.read_csv(\"/content/drive/MyDrive/twitch_gamers/large_twitch_edges_test.csv\")\n",
    "all_vertices = set(df['numeric_id_1']).union(set(df['numeric_id_2']))\n",
    "\n",
    "# deadend\n",
    "missing_vertices = [vertex for vertex in all_vertices if vertex not in set(df['numeric_id_1'])]\n",
    "\n",
    "# add loop\n",
    "missing_edges_df = pd.DataFrame({'numeric_id_1': missing_vertices, 'numeric_id_2': missing_vertices})\n",
    "\n",
    "df = pd.concat([df, missing_edges_df], ignore_index=True)\n",
    "\n",
    "df.to_csv('loop.csv')\n"
   ],
   "metadata": {
    "id": "26McF-LApnQY"
   },
   "execution_count": 4,
   "outputs": []
  },
  {
   "cell_type": "code",
   "source": [
    "# Read the excel file / rename columns\n",
    "twitch_gamers = spark.read.format(\"csv\").option(\"header\", \"true\").load(\n",
    "    \"loop.csv\").withColumnRenamed(\"numeric_id_1\",\n",
    "                                  \"src\").withColumnRenamed(\n",
    "    \"numeric_id_2\", \"dst\")\n",
    "\n",
    "vertices = twitch_gamers.select(\"src\").union(twitch_gamers.select(\"dst\")).distinct().withColumnRenamed(\"src\", \"id\")\n",
    "\n",
    "edges = twitch_gamers.select(\"src\", \"dst\")\n",
    "graph = GraphFrame(vertices, edges)\n",
    "\n",
    "# Show graph\n",
    "graph.vertices.show()\n",
    "graph.edges.show()\n"
   ],
   "metadata": {
    "id": "hCHssjPUsTwt",
    "outputId": "3515064b-a526-47ed-c044-0172c0b75906",
    "colab": {
     "base_uri": "https://localhost:8080/"
    }
   },
   "execution_count": 5,
   "outputs": [
    {
     "output_type": "stream",
     "name": "stdout",
     "text": [
      "+---+\n",
      "| id|\n",
      "+---+\n",
      "|  3|\n",
      "|  1|\n",
      "|  2|\n",
      "+---+\n",
      "\n",
      "+---+---+\n",
      "|src|dst|\n",
      "+---+---+\n",
      "|  1|  2|\n",
      "|  1|  3|\n",
      "|  2|  3|\n",
      "|  3|  3|\n",
      "+---+---+\n"
     ]
    }
   ]
  },
  {
   "cell_type": "markdown",
   "source": [
    "**In degree function**"
   ],
   "metadata": {
    "id": "FhuklZVpSQ2r"
   }
  },
  {
   "cell_type": "code",
   "source": [
    "# Implement in_degree function\n",
    "def out_Degrees(graph):\n",
    "    out_degrees = graph.edges.groupBy(\"src\").count().select(f.col(\"src\").alias(\"id\"),\n",
    "                                                            f.col(\"count\").alias(\"out_degree\"))\n",
    "\n",
    "    # for 0 indegree\n",
    "    return graph.vertices.join(out_degrees, \"id\", \"left_outer\").select(\"id\", \"out_degree\").na.fill(0)"
   ],
   "metadata": {
    "id": "b2D1KSI2WNNq"
   },
   "execution_count": 6,
   "outputs": []
  },
  {
   "cell_type": "markdown",
   "source": [
    "**PageRank**"
   ],
   "metadata": {
    "id": "_yTJ3cQfvwLG"
   }
  },
  {
   "cell_type": "code",
   "source": [
    "# Implement Page Rank\n",
    "\n",
    "def page_rank(graph, resetProbability=0.15, sourceId=None, maxIter=None, tol=None):\n",
    "    \"\"\"\n",
    "    Runs the PageRank algorithm on the graph.\n",
    "    Note: Exactly one of fixed_num_iter or tolerance must be set.\n",
    "\n",
    "    See Scala documentation for more details.\n",
    "\n",
    "    :param resetProbability: Probability of resetting to a random vertex.\n",
    "    :param sourceId: (optional) the source vertex for a personalized PageRank.\n",
    "    :param maxIter: If set, the algorithm is run for a fixed number\n",
    "            of iterations. This may not be set if the `tol` parameter is set.\n",
    "    :param tol: If set, the algorithm is run until the given tolerance.\n",
    "            This may not be set if the `numIter` parameter is set.\n",
    "    :return:  GraphFrame with new vertices column \"pagerank\" and new edges column \"weight\"\n",
    "    \"\"\"\n",
    "\n",
    "    num_vertex = graph.vertices.count()\n",
    "\n",
    "    # Calculate out-degree\n",
    "    out_degrees = out_Degrees(graph)\n",
    "    out_degrees = out_degrees.withColumnRenamed(\"id\", \"out_degree_id\")\n",
    "    # Join the DataFrames and add the in_degree column\n",
    "    vertices = graph.vertices.join(out_degrees, graph.vertices[\"id\"] == out_degrees[\"out_degree_id\"], \"left\").drop(\n",
    "        \"out_degree_id\")\n",
    "    # Update the graph with in_degree\n",
    "    graph = GraphFrame(vertices, edges)\n",
    "\n",
    "    # init rank\n",
    "    if sourceId is not None:\n",
    "        if maxIter is not None:\n",
    "            ranks = graph.pregel \\\n",
    "                .setMaxIter(maxIter) \\\n",
    "                .withVertexColumn(\"pagerank\", f.when(graph.vertices.id == sourceId, f.lit(1.0)) \\\n",
    "                                  .otherwise(f.lit(0.0)), \\\n",
    "                                  f.coalesce(Pregel.msg(), f.lit(0.0)) * f.lit(1.0 - resetProbability) + f.when(\n",
    "                                      graph.vertices.id == sourceId, f.lit(resetProbability)).otherwise(f.lit(0.0))) \\\n",
    "                .sendMsgToDst(Pregel.src(\"pagerank\") / Pregel.src(\"out_degree\")) \\\n",
    "                .aggMsgs(f.sum(Pregel.msg())) \\\n",
    "                .run()\n",
    "            return GraphFrame(ranks, graph.edges)\n",
    "    elif maxIter is not None:\n",
    "        ranks = graph.pregel \\\n",
    "            .setMaxIter(maxIter) \\\n",
    "            .withVertexColumn(\"pagerank\", f.lit(1.0 / num_vertex), \\\n",
    "                              f.coalesce(Pregel.msg(), f.lit(0.0)) * f.lit(1.0 - resetProbability) + f.lit(\n",
    "                                  resetProbability / num_vertex)) \\\n",
    "            .sendMsgToDst(Pregel.src(\"pagerank\") / Pregel.src(\"out_degree\")) \\\n",
    "            .aggMsgs(f.sum(Pregel.msg())) \\\n",
    "            .run()\n",
    "        return GraphFrame(ranks, graph.edges)\n",
    "\n",
    "    # running first iteration for the convergence verion\n",
    "    if sourceId is not None:\n",
    "        ranks = graph.pregel \\\n",
    "            .setMaxIter(1) \\\n",
    "            .withVertexColumn(\"pagerank\", f.when(graph.vertices.id == sourceId, f.lit(1.0)) \\\n",
    "                              .otherwise(f.lit(0.0)), \\\n",
    "                              f.coalesce(Pregel.msg(), f.lit(0.0)) * f.lit(1.0 - resetProbability) + f.when(\n",
    "                                  graph.vertices.id == sourceId, f.lit(resetProbability)).otherwise(f.lit(0.0))) \\\n",
    "            .sendMsgToDst(Pregel.src(\"pagerank\") / Pregel.src(\"out_degree\")) \\\n",
    "            .aggMsgs(f.sum(Pregel.msg())) \\\n",
    "            .run()\n",
    "    else:\n",
    "        ranks = graph.pregel \\\n",
    "            .setMaxIter(1) \\\n",
    "            .withVertexColumn(\"pagerank\", f.lit(1.0 / num_vertex), \\\n",
    "                              f.coalesce(Pregel.msg(), f.lit(0.0)) * f.lit(1.0 - resetProbability) + f.lit(\n",
    "                                  resetProbability / num_vertex)) \\\n",
    "            .sendMsgToDst(Pregel.src(\"pagerank\") / Pregel.src(\"out_degree\")) \\\n",
    "            .aggMsgs(f.sum(Pregel.msg())) \\\n",
    "            .run()\n",
    "    # goes into convergence  check\n",
    "    ranks = ranks.withColumnRenamed(\"pagerank\", \"previous_pagerank\")\n",
    "    graph = GraphFrame(ranks, graph.edges)\n",
    "    # tol\n",
    "    while 1:\n",
    "        # new pagerank\n",
    "        if sourceId is not None:\n",
    "            new = graph.pregel \\\n",
    "                .setMaxIter(1) \\\n",
    "                .withVertexColumn(\"pagerank\", graph.vertices[\"previous_pagerank\"], \\\n",
    "                                  f.coalesce(Pregel.msg(), f.lit(0.0)) * f.lit(1.0 - resetProbability) + f.when(\n",
    "                                      graph.vertices.id == sourceId, f.lit(resetProbability)).otherwise(f.lit(0.0))) \\\n",
    "                .sendMsgToDst(Pregel.src(\"pagerank\") / Pregel.src(\"out_degree\")) \\\n",
    "                .aggMsgs(f.sum(Pregel.msg())) \\\n",
    "                .run()\n",
    "            new = new.drop(\"previous_pagerank\")\n",
    "        else:\n",
    "            new = graph.pregel \\\n",
    "                .setMaxIter(1) \\\n",
    "                .withVertexColumn(\"pagerank\", graph.vertices[\"previous_pagerank\"], \\\n",
    "                                  f.coalesce(Pregel.msg(), f.lit(0.0)) * f.lit(1.0 - resetProbability) + f.lit(\n",
    "                                      resetProbability / num_vertex)) \\\n",
    "                .sendMsgToDst(Pregel.src(\"pagerank\") / Pregel.src(\"out_degree\")) \\\n",
    "                .aggMsgs(f.sum(Pregel.msg())) \\\n",
    "                .run()\n",
    "            new = new.drop(\"previous_pagerank\")\n",
    "        # difference is smaller than tol\n",
    "        diff = new.join(graph.vertices, \"id\")\n",
    "        diff = diff.withColumn('difference', f.abs(diff['previous_pagerank'] - diff['pagerank']))\n",
    "        diff.show()\n",
    "\n",
    "        smallest_difference = diff.orderBy(diff['difference'].desc()).select(\"difference\").limit(1).first()[0]\n",
    "        if smallest_difference < tol:\n",
    "            return GraphFrame(new, graph.edges)\n",
    "        new = new.withColumnRenamed(\"pagerank\", \"previous_pagerank\")\n",
    "        graph = GraphFrame(new, graph.edges)\n",
    "\n"
   ],
   "metadata": {
    "id": "N00HJajGr7u5"
   },
   "execution_count": 7,
   "outputs": []
  },
  {
   "cell_type": "code",
   "source": [
    "page_rank(graph, maxIter=1).vertices.show()"
   ],
   "metadata": {
    "colab": {
     "base_uri": "https://localhost:8080/"
    },
    "id": "1cWjBvlqo9i_",
    "outputId": "c8ce38fe-17fe-4dfa-81de-e03c580575b7"
   },
   "execution_count": 8,
   "outputs": [
    {
     "output_type": "stream",
     "name": "stdout",
     "text": [
      "+---+----------+--------------------+\n",
      "| id|out_degree|            pagerank|\n",
      "+---+----------+--------------------+\n",
      "|  1|         2|0.049999999999999996|\n",
      "|  2|         1| 0.19166666666666665|\n",
      "|  3|         1|  0.7583333333333333|\n",
      "+---+----------+--------------------+\n"
     ]
    }
   ]
  },
  {
   "cell_type": "code",
   "source": [
    "page_rank(graph, sourceId=\"1\", maxIter=1).vertices.show()"
   ],
   "metadata": {
    "colab": {
     "base_uri": "https://localhost:8080/"
    },
    "id": "NuQVBCI-nnKB",
    "outputId": "a36a94e2-9860-496a-9102-6bb9e82595f6"
   },
   "execution_count": 9,
   "outputs": [
    {
     "output_type": "stream",
     "name": "stdout",
     "text": [
      "+---+----------+--------+\n",
      "| id|out_degree|pagerank|\n",
      "+---+----------+--------+\n",
      "|  1|         2|    0.15|\n",
      "|  2|         1|   0.425|\n",
      "|  3|         1|   0.425|\n",
      "+---+----------+--------+\n"
     ]
    }
   ]
  },
  {
   "cell_type": "code",
   "source": [
    "page_rank(graph, tol=0.3).vertices.show()"
   ],
   "metadata": {
    "colab": {
     "base_uri": "https://localhost:8080/"
    },
    "id": "gbj2jubtnfAN",
    "outputId": "43b6d51f-5c18-4ffb-e045-be7894d10ca8"
   },
   "execution_count": 10,
   "outputs": [
    {
     "output_type": "stream",
     "name": "stdout",
     "text": [
      "+---+----------+--------------------+----------+--------------------+-------------------+\n",
      "| id|out_degree|            pagerank|out_degree|   previous_pagerank|         difference|\n",
      "+---+----------+--------------------+----------+--------------------+-------------------+\n",
      "|  1|         2|0.049999999999999996|         2|0.049999999999999996|                0.0|\n",
      "|  2|         1|             0.07125|         1| 0.19166666666666665|0.12041666666666666|\n",
      "|  3|         1|             0.87875|         1|  0.7583333333333333|0.12041666666666673|\n",
      "+---+----------+--------------------+----------+--------------------+-------------------+\n",
      "\n",
      "+---+----------+--------------------+\n",
      "| id|out_degree|            pagerank|\n",
      "+---+----------+--------------------+\n",
      "|  1|         2|0.049999999999999996|\n",
      "|  2|         1|             0.07125|\n",
      "|  3|         1|             0.87875|\n",
      "+---+----------+--------------------+\n"
     ]
    }
   ]
  }
 ]
}
